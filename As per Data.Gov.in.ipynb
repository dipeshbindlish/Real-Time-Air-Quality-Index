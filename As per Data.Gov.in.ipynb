{
 "cells": [
  {
   "cell_type": "markdown",
   "id": "5f46f243",
   "metadata": {},
   "source": [
    "# PROJECT : REAL-TIME AQI ANALYSIS AND VISUALIZATION OF INDIA"
   ]
  },
  {
   "attachments": {},
   "cell_type": "markdown",
   "id": "312d68d3",
   "metadata": {},
   "source": [
    "- Importing necessary libraries:"
   ]
  },
  {
   "cell_type": "code",
   "execution_count": 12,
   "id": "e1e72f86",
   "metadata": {},
   "outputs": [],
   "source": [
    "import requests\n",
    "import json\n",
    "import pandas as pd\n",
    "import re\n",
    "import datetime\n",
    "import time\n",
    "import base64\n",
    "from itertools import product"
   ]
  },
  {
   "attachments": {},
   "cell_type": "markdown",
   "id": "6924d207",
   "metadata": {},
   "source": [
    "- Accessing data using token"
   ]
  },
  {
   "cell_type": "code",
   "execution_count": 17,
   "id": "cf6f62c2",
   "metadata": {},
   "outputs": [
    {
     "data": {
      "text/html": [
       "<div>\n",
       "<style scoped>\n",
       "    .dataframe tbody tr th:only-of-type {\n",
       "        vertical-align: middle;\n",
       "    }\n",
       "\n",
       "    .dataframe tbody tr th {\n",
       "        vertical-align: top;\n",
       "    }\n",
       "\n",
       "    .dataframe thead th {\n",
       "        text-align: right;\n",
       "    }\n",
       "</style>\n",
       "<table border=\"1\" class=\"dataframe\">\n",
       "  <thead>\n",
       "    <tr style=\"text-align: right;\">\n",
       "      <th></th>\n",
       "      <th>id</th>\n",
       "      <th>country</th>\n",
       "      <th>state</th>\n",
       "      <th>city</th>\n",
       "      <th>station</th>\n",
       "      <th>last_update</th>\n",
       "      <th>pollutant_id</th>\n",
       "      <th>pollutant_min</th>\n",
       "      <th>pollutant_max</th>\n",
       "      <th>pollutant_avg</th>\n",
       "      <th>pollutant_unit</th>\n",
       "    </tr>\n",
       "  </thead>\n",
       "  <tbody>\n",
       "    <tr>\n",
       "      <th>0</th>\n",
       "      <td>1316</td>\n",
       "      <td>India</td>\n",
       "      <td>Punjab</td>\n",
       "      <td>Rupnagar</td>\n",
       "      <td>Ratanpura, Rupnagar - Ambuja Cements</td>\n",
       "      <td>18-12-2022 21:00:00</td>\n",
       "      <td>PM10</td>\n",
       "      <td>72</td>\n",
       "      <td>218</td>\n",
       "      <td>116</td>\n",
       "      <td>NA</td>\n",
       "    </tr>\n",
       "    <tr>\n",
       "      <th>0</th>\n",
       "      <td>1315</td>\n",
       "      <td>India</td>\n",
       "      <td>Punjab</td>\n",
       "      <td>Rupnagar</td>\n",
       "      <td>Ratanpura, Rupnagar - Ambuja Cements</td>\n",
       "      <td>18-12-2022 21:00:00</td>\n",
       "      <td>PM2.5</td>\n",
       "      <td>61</td>\n",
       "      <td>300</td>\n",
       "      <td>110</td>\n",
       "      <td>NA</td>\n",
       "    </tr>\n",
       "    <tr>\n",
       "      <th>0</th>\n",
       "      <td>1317</td>\n",
       "      <td>India</td>\n",
       "      <td>Punjab</td>\n",
       "      <td>Rupnagar</td>\n",
       "      <td>Ratanpura, Rupnagar - Ambuja Cements</td>\n",
       "      <td>18-12-2022 21:00:00</td>\n",
       "      <td>NO2</td>\n",
       "      <td>1</td>\n",
       "      <td>48</td>\n",
       "      <td>13</td>\n",
       "      <td>NA</td>\n",
       "    </tr>\n",
       "    <tr>\n",
       "      <th>0</th>\n",
       "      <td>1318</td>\n",
       "      <td>India</td>\n",
       "      <td>Punjab</td>\n",
       "      <td>Rupnagar</td>\n",
       "      <td>Ratanpura, Rupnagar - Ambuja Cements</td>\n",
       "      <td>18-12-2022 21:00:00</td>\n",
       "      <td>SO2</td>\n",
       "      <td>9</td>\n",
       "      <td>11</td>\n",
       "      <td>10</td>\n",
       "      <td>NA</td>\n",
       "    </tr>\n",
       "    <tr>\n",
       "      <th>0</th>\n",
       "      <td>1319</td>\n",
       "      <td>India</td>\n",
       "      <td>Punjab</td>\n",
       "      <td>Rupnagar</td>\n",
       "      <td>Ratanpura, Rupnagar - Ambuja Cements</td>\n",
       "      <td>18-12-2022 21:00:00</td>\n",
       "      <td>CO</td>\n",
       "      <td>25</td>\n",
       "      <td>92</td>\n",
       "      <td>44</td>\n",
       "      <td>NA</td>\n",
       "    </tr>\n",
       "  </tbody>\n",
       "</table>\n",
       "</div>"
      ],
      "text/plain": [
       "     id country   state      city                               station  \\\n",
       "0  1316   India  Punjab  Rupnagar  Ratanpura, Rupnagar - Ambuja Cements   \n",
       "0  1315   India  Punjab  Rupnagar  Ratanpura, Rupnagar - Ambuja Cements   \n",
       "0  1317   India  Punjab  Rupnagar  Ratanpura, Rupnagar - Ambuja Cements   \n",
       "0  1318   India  Punjab  Rupnagar  Ratanpura, Rupnagar - Ambuja Cements   \n",
       "0  1319   India  Punjab  Rupnagar  Ratanpura, Rupnagar - Ambuja Cements   \n",
       "\n",
       "           last_update pollutant_id pollutant_min pollutant_max pollutant_avg  \\\n",
       "0  18-12-2022 21:00:00         PM10            72           218           116   \n",
       "0  18-12-2022 21:00:00        PM2.5            61           300           110   \n",
       "0  18-12-2022 21:00:00          NO2             1            48            13   \n",
       "0  18-12-2022 21:00:00          SO2             9            11            10   \n",
       "0  18-12-2022 21:00:00           CO            25            92            44   \n",
       "\n",
       "  pollutant_unit  \n",
       "0             NA  \n",
       "0             NA  \n",
       "0             NA  \n",
       "0             NA  \n",
       "0             NA  "
      ]
     },
     "execution_count": 17,
     "metadata": {},
     "output_type": "execute_result"
    }
   ],
   "source": [
    "def getData(token, filters):\n",
    "    url1 = \"https://api.data.gov.in/resource/3b01bcb8-0b14-4abf-b6f2-c1bfd384ba69?api-key=\" + token + \"&format=json&limit=500\"\n",
    "    criteriaAll = [[(k, re.sub(r'\\s+', '%20', v)) for v in criteria[k]] for k in criteria]\n",
    "    url2 = [url1 + ''.join(f'&filters[{ls}]={value}' for ls, value in p) for p in product(*criteriaAll)]\n",
    "    \n",
    "    pollutionDfAll = pd.DataFrame()\n",
    "    for i in url2:\n",
    "        response = requests.get(i, verify=True)\n",
    "        response_dict = json.loads(response.text)\n",
    "        pollutionDf = pd.DataFrame(response_dict['records'])\n",
    "        pollutionDfAll = pd.concat([pollutionDfAll, pollutionDf])\n",
    "    \n",
    "    return pollutionDfAll\n",
    "\n",
    "token =\"579b464db66ec23bdd000001fcbeb272b328454e41d1cd46d77298ba\"\n",
    "criteria = {'city':[\"Rupnagar\",\"Punjab\"], 'pollutant_id': [\"PM10\", \"PM2.5\",\"NO2\",\"NH3\",\"SO2\",\"CO\",\"OZONE\"]}\n",
    "mydata = getData(token, criteria)\n",
    "mydata"
   ]
  }
 ],
 "metadata": {
  "kernelspec": {
   "display_name": "Python 3",
   "language": "python",
   "name": "python3"
  },
  "language_info": {
   "codemirror_mode": {
    "name": "ipython",
    "version": 3
   },
   "file_extension": ".py",
   "mimetype": "text/x-python",
   "name": "python",
   "nbconvert_exporter": "python",
   "pygments_lexer": "ipython3",
   "version": "3.10.8"
  },
  "vscode": {
   "interpreter": {
    "hash": "b9b08c976c963318ccfae33e54e233cabdaac9c3670da944232b147cce5e6228"
   }
  }
 },
 "nbformat": 4,
 "nbformat_minor": 5
}
